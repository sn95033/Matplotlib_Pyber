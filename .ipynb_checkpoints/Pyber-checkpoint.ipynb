{
 "cells": [
  {
   "cell_type": "markdown",
   "metadata": {},
   "source": [
    "Option 1: Pyber\n",
    "\n",
    "The ride sharing bonanza continues! Seeing the success of notable players like Uber and Lyft, you've decided to join a fledgling ride sharing company of your own. In your latest capacity, you'll be acting as Chief Data Strategist for the company. In this role, you'll be expected to offer data-backed guidance on new opportunities for market differentiation.\n",
    "\n",
    "You've since been given access to the company's complete recordset of rides. This contains information about every active driver and historic ride, including details like city, driver count, individual fares, and city type.\n",
    "\n",
    "Your objective is to build a Bubble Plot that showcases the relationship between four key variables:\n",
    "\n",
    "Average Fare ($) Per City\n",
    "Total Number of Rides Per City\n",
    "Total Number of Drivers Per City\n",
    "City Type (Urban, Suburban, Rural)\n",
    "\n",
    "\n",
    "In addition, you will be expected to produce the following three pie charts:\n",
    "\n",
    "% of Total Fares by City Type\n",
    "% of Total Rides by City Type\n",
    "% of Total Drivers by City Type\n",
    "\n",
    "\n",
    "As final considerations:\n",
    "You must use the Pandas Library and the Jupyter Notebook.\n",
    "You must use the Matplotlib library.\n",
    "You must include a written description of three observable trends based on the data.\n",
    "You must use proper labeling of your plots, including aspects like: Plot Titles, Axes Labels, Legend Labels, Wedge Percentages, and Wedge Labels.\n",
    "Remember when making your plots to consider aesthetics!\n",
    "\n",
    "\n",
    "You must stick to the Pyber color scheme (Gold, Light Sky Blue, and Light Coral) in producing your plot and pie charts.\n",
    "When making your Bubble Plot, experiment with effects like alpha, edgecolor, and linewidths.\n",
    "When making your Pie Chart, experiment with effects like shadow, startangle, and explosion.\n",
    "\n",
    "\n",
    "See Starter Workbook for a reference on expected format."
   ]
  },
  {
   "cell_type": "code",
   "execution_count": 99,
   "metadata": {},
   "outputs": [
    {
     "data": {
      "text/plain": [
       "(120,                      city  driver_count      type\n",
       " 0             Richardfort            38     Urban\n",
       " 1            Williamsstad            59     Urban\n",
       " 2             Port Angela            67     Urban\n",
       " 3              Rodneyfort            34     Urban\n",
       " 4             West Robert            39     Urban\n",
       " 5            West Anthony            70     Urban\n",
       " 6             West Angela            48     Urban\n",
       " 7           Martinezhaven            25     Urban\n",
       " 8               Karenberg            22     Urban\n",
       " 9             Barajasview            26     Urban\n",
       " 10             Robertport            12     Urban\n",
       " 11           Joneschester            39     Urban\n",
       " 12                Leahton            17     Urban\n",
       " 13   West Christopherberg            32     Urban\n",
       " 14                Johnton            27     Urban\n",
       " 15           Reynoldsfurt            67     Urban\n",
       " 16             Port David             7     Urban\n",
       " 17    New Kimberlyborough            33     Urban\n",
       " 18            Carriemouth            52     Urban\n",
       " 19              Rogerston            25     Urban\n",
       " 20               Jerryton            64     Urban\n",
       " 21              Loganberg            23     Urban\n",
       " 22           Simpsonburgh            21     Urban\n",
       " 23             Port Frank            23     Urban\n",
       " 24           South Latoya            10     Urban\n",
       " 25       West Samuelburgh            73     Urban\n",
       " 26            Grahamburgh            61     Urban\n",
       " 27    West Patrickchester            25     Urban\n",
       " 28         North Madeline            19     Urban\n",
       " 29             South Jack            46     Urban\n",
       " ..                    ...           ...       ...\n",
       " 90          Barronchester            11  Suburban\n",
       " 91            Brandonfort            10  Suburban\n",
       " 92        East Danielview            22  Suburban\n",
       " 93         East Marymouth             5  Suburban\n",
       " 94            Mezachester            14  Suburban\n",
       " 95              Lewisland             4  Suburban\n",
       " 96             Josephside            25  Suburban\n",
       " 97              Davidfurt            23  Suburban\n",
       " 98          Nicolechester            19  Suburban\n",
       " 99         East Aaronbury             7  Suburban\n",
       " 100    North Richardhaven             1  Suburban\n",
       " 101         North Jeffrey            11  Suburban\n",
       " 102        South Jennifer             7     Rural\n",
       " 103          West Heather             4     Rural\n",
       " 104            Newtonview             1     Rural\n",
       " 105           North Holly             8     Rural\n",
       " 106           Michaelberg             6     Rural\n",
       " 107           Taylorhaven             1     Rural\n",
       " 108           Penaborough             6     Rural\n",
       " 109        Harringtonfort             4     Rural\n",
       " 110            Lake Jamie             4     Rural\n",
       " 111       Lake Latoyabury             2     Rural\n",
       " 112           North Jaime             1     Rural\n",
       " 113     South Marychester             1     Rural\n",
       " 114             Garzaport             7     Rural\n",
       " 115          Bradshawfurt             7     Rural\n",
       " 116          New Ryantown             2     Rural\n",
       " 117        Randallchester             9     Rural\n",
       " 118           Jessicaport             1     Rural\n",
       " 119       South Saramouth             7     Rural\n",
       " \n",
       " [120 rows x 3 columns])"
      ]
     },
     "execution_count": 99,
     "metadata": {},
     "output_type": "execute_result"
    }
   ],
   "source": [
    "%matplotlib inline\n",
    "# Dependencies and Setup\n",
    "import matplotlib.pyplot as plt\n",
    "import pandas as pd\n",
    "import numpy as np\n",
    "\n",
    "# File to Load (Remember to change these)\n",
    "city_data_to_load = \"Pyber_city_date.csv\"\n",
    "ride_data_to_load = \"Pyber_ride_date.csv\"\n",
    "\n",
    "# Read the City and Ride Data\n",
    "city_df = pd.read_csv(city_data_to_load)\n",
    "ride_df = pd.read_csv(ride_data_to_load)\n",
    "\n",
    "# Get an idea of the amount of data, and the structure of the data\n",
    "len(city_df), city_df.head(120)"
   ]
  },
  {
   "cell_type": "code",
   "execution_count": 98,
   "metadata": {},
   "outputs": [
    {
     "data": {
      "text/plain": [
       "(2375,                  city                 date   fare        ride_id\n",
       " 0  Lake Jonathanshire  2018-01-14 10:14:22  13.83  5739410935873\n",
       " 1  South Michelleport  2018-03-04 18:24:09  30.24  2343912425577\n",
       " 2  Port Samanthamouth  2018-02-24 04:29:00  33.44  2005065760003\n",
       " 3          Rodneyfort  2018-02-10 23:22:03  23.44  5149245426178\n",
       " 4          South Jack  2018-03-06 04:28:35  34.58  3908451377344)"
      ]
     },
     "execution_count": 98,
     "metadata": {},
     "output_type": "execute_result"
    }
   ],
   "source": [
    "# get an idea of the amount of data and the structure of the data\n",
    "len(ride_df), ride_df.head()"
   ]
  },
  {
   "cell_type": "code",
   "execution_count": 3,
   "metadata": {},
   "outputs": [
    {
     "data": {
      "text/html": [
       "<div>\n",
       "<style scoped>\n",
       "    .dataframe tbody tr th:only-of-type {\n",
       "        vertical-align: middle;\n",
       "    }\n",
       "\n",
       "    .dataframe tbody tr th {\n",
       "        vertical-align: top;\n",
       "    }\n",
       "\n",
       "    .dataframe thead th {\n",
       "        text-align: right;\n",
       "    }\n",
       "</style>\n",
       "<table border=\"1\" class=\"dataframe\">\n",
       "  <thead>\n",
       "    <tr style=\"text-align: right;\">\n",
       "      <th></th>\n",
       "      <th>city</th>\n",
       "      <th>date</th>\n",
       "      <th>fare</th>\n",
       "      <th>ride_id</th>\n",
       "      <th>driver_count</th>\n",
       "      <th>type</th>\n",
       "    </tr>\n",
       "  </thead>\n",
       "  <tbody>\n",
       "    <tr>\n",
       "      <th>0</th>\n",
       "      <td>Lake Jonathanshire</td>\n",
       "      <td>2018-01-14 10:14:22</td>\n",
       "      <td>13.83</td>\n",
       "      <td>5739410935873</td>\n",
       "      <td>5</td>\n",
       "      <td>Urban</td>\n",
       "    </tr>\n",
       "    <tr>\n",
       "      <th>1</th>\n",
       "      <td>South Michelleport</td>\n",
       "      <td>2018-03-04 18:24:09</td>\n",
       "      <td>30.24</td>\n",
       "      <td>2343912425577</td>\n",
       "      <td>72</td>\n",
       "      <td>Urban</td>\n",
       "    </tr>\n",
       "    <tr>\n",
       "      <th>2</th>\n",
       "      <td>Port Samanthamouth</td>\n",
       "      <td>2018-02-24 04:29:00</td>\n",
       "      <td>33.44</td>\n",
       "      <td>2005065760003</td>\n",
       "      <td>57</td>\n",
       "      <td>Urban</td>\n",
       "    </tr>\n",
       "    <tr>\n",
       "      <th>3</th>\n",
       "      <td>Rodneyfort</td>\n",
       "      <td>2018-02-10 23:22:03</td>\n",
       "      <td>23.44</td>\n",
       "      <td>5149245426178</td>\n",
       "      <td>34</td>\n",
       "      <td>Urban</td>\n",
       "    </tr>\n",
       "    <tr>\n",
       "      <th>4</th>\n",
       "      <td>South Jack</td>\n",
       "      <td>2018-03-06 04:28:35</td>\n",
       "      <td>34.58</td>\n",
       "      <td>3908451377344</td>\n",
       "      <td>46</td>\n",
       "      <td>Urban</td>\n",
       "    </tr>\n",
       "  </tbody>\n",
       "</table>\n",
       "</div>"
      ],
      "text/plain": [
       "                 city                 date   fare        ride_id  \\\n",
       "0  Lake Jonathanshire  2018-01-14 10:14:22  13.83  5739410935873   \n",
       "1  South Michelleport  2018-03-04 18:24:09  30.24  2343912425577   \n",
       "2  Port Samanthamouth  2018-02-24 04:29:00  33.44  2005065760003   \n",
       "3          Rodneyfort  2018-02-10 23:22:03  23.44  5149245426178   \n",
       "4          South Jack  2018-03-06 04:28:35  34.58  3908451377344   \n",
       "\n",
       "   driver_count   type  \n",
       "0             5  Urban  \n",
       "1            72  Urban  \n",
       "2            57  Urban  \n",
       "3            34  Urban  \n",
       "4            46  Urban  "
      ]
     },
     "execution_count": 3,
     "metadata": {},
     "output_type": "execute_result"
    }
   ],
   "source": [
    "# Combine the data into a single dataset\n",
    "\n",
    "combi_df = pd.merge(ride_df,city_df, how='left', on = \"city\" )\n",
    "\n",
    "# Remove unneeded columns\n",
    "#del combi_df[\"ride_id\"]\n",
    "\n",
    "# Display the data table for preview\n",
    "combi_df.head()\n"
   ]
  },
  {
   "cell_type": "code",
   "execution_count": 4,
   "metadata": {},
   "outputs": [
    {
     "data": {
      "text/plain": [
       "120"
      ]
     },
     "execution_count": 4,
     "metadata": {},
     "output_type": "execute_result"
    }
   ],
   "source": [
    "unique = combi_df[\"city\"].unique()\n",
    "len(unique)\n",
    "\n",
    "#There are 120 unique cities on a list of 2375 rides"
   ]
  },
  {
   "cell_type": "code",
   "execution_count": 5,
   "metadata": {},
   "outputs": [
    {
     "data": {
      "text/html": [
       "<div>\n",
       "<style scoped>\n",
       "    .dataframe tbody tr th:only-of-type {\n",
       "        vertical-align: middle;\n",
       "    }\n",
       "\n",
       "    .dataframe tbody tr th {\n",
       "        vertical-align: top;\n",
       "    }\n",
       "\n",
       "    .dataframe thead th {\n",
       "        text-align: right;\n",
       "    }\n",
       "</style>\n",
       "<table border=\"1\" class=\"dataframe\">\n",
       "  <thead>\n",
       "    <tr style=\"text-align: right;\">\n",
       "      <th></th>\n",
       "      <th>type</th>\n",
       "      <th>city</th>\n",
       "      <th>Ave Fare $</th>\n",
       "      <th># of Drivers</th>\n",
       "      <th>Total # of Rides</th>\n",
       "    </tr>\n",
       "  </thead>\n",
       "  <tbody>\n",
       "    <tr>\n",
       "      <th>0</th>\n",
       "      <td>Rural</td>\n",
       "      <td>Bradshawfurt</td>\n",
       "      <td>40.06</td>\n",
       "      <td>7.0</td>\n",
       "      <td>10</td>\n",
       "    </tr>\n",
       "    <tr>\n",
       "      <th>1</th>\n",
       "      <td>Rural</td>\n",
       "      <td>Garzaport</td>\n",
       "      <td>24.12</td>\n",
       "      <td>7.0</td>\n",
       "      <td>3</td>\n",
       "    </tr>\n",
       "    <tr>\n",
       "      <th>2</th>\n",
       "      <td>Rural</td>\n",
       "      <td>Harringtonfort</td>\n",
       "      <td>33.47</td>\n",
       "      <td>4.0</td>\n",
       "      <td>6</td>\n",
       "    </tr>\n",
       "    <tr>\n",
       "      <th>3</th>\n",
       "      <td>Rural</td>\n",
       "      <td>Jessicaport</td>\n",
       "      <td>36.01</td>\n",
       "      <td>1.0</td>\n",
       "      <td>6</td>\n",
       "    </tr>\n",
       "    <tr>\n",
       "      <th>4</th>\n",
       "      <td>Rural</td>\n",
       "      <td>Lake Jamie</td>\n",
       "      <td>34.36</td>\n",
       "      <td>4.0</td>\n",
       "      <td>6</td>\n",
       "    </tr>\n",
       "  </tbody>\n",
       "</table>\n",
       "</div>"
      ],
      "text/plain": [
       "    type            city  Ave Fare $  # of Drivers  Total # of Rides\n",
       "0  Rural    Bradshawfurt       40.06           7.0                10\n",
       "1  Rural       Garzaport       24.12           7.0                 3\n",
       "2  Rural  Harringtonfort       33.47           4.0                 6\n",
       "3  Rural     Jessicaport       36.01           1.0                 6\n",
       "4  Rural      Lake Jamie       34.36           4.0                 6"
      ]
     },
     "execution_count": 5,
     "metadata": {},
     "output_type": "execute_result"
    }
   ],
   "source": [
    "# Create a dataframe of the data\n",
    "\n",
    "fare_group = combi_df.groupby([\"type\",\"city\"], as_index = False).mean()\n",
    "del fare_group[\"ride_id\"]\n",
    "fare_group[\"fare\"] = round(fare_group[\"fare\"],2)\n",
    "fare_group = fare_group.rename(columns ={\"fare\":\"Ave Fare $\",\n",
    "                              \"driver_count\" : \"# of Drivers\"})\n",
    "#fare_group\n",
    "\n",
    "total_rides = combi_df.groupby([\"type\",\"city\"], as_index = False).count()\n",
    "del total_rides[\"driver_count\"]\n",
    "del total_rides[\"fare\"]\n",
    "del total_rides[\"ride_id\"]\n",
    "total_rides = total_rides.rename(columns = {\"date\":\"Total # of Rides\"})\n",
    "total_rides\n",
    "                                \n",
    "result_table = pd.merge(fare_group, total_rides, on=['type','city'])\n",
    "\n",
    "result_table.head()\n"
   ]
  },
  {
   "cell_type": "code",
   "execution_count": 7,
   "metadata": {},
   "outputs": [
    {
     "data": {
      "text/html": [
       "<div>\n",
       "<style scoped>\n",
       "    .dataframe tbody tr th:only-of-type {\n",
       "        vertical-align: middle;\n",
       "    }\n",
       "\n",
       "    .dataframe tbody tr th {\n",
       "        vertical-align: top;\n",
       "    }\n",
       "\n",
       "    .dataframe thead th {\n",
       "        text-align: right;\n",
       "    }\n",
       "</style>\n",
       "<table border=\"1\" class=\"dataframe\">\n",
       "  <thead>\n",
       "    <tr style=\"text-align: right;\">\n",
       "      <th></th>\n",
       "      <th></th>\n",
       "      <th>Total # of Rides</th>\n",
       "      <th>Ave Fare $</th>\n",
       "      <th># of Drivers</th>\n",
       "    </tr>\n",
       "    <tr>\n",
       "      <th>type</th>\n",
       "      <th>city</th>\n",
       "      <th></th>\n",
       "      <th></th>\n",
       "      <th></th>\n",
       "    </tr>\n",
       "  </thead>\n",
       "  <tbody>\n",
       "    <tr>\n",
       "      <th rowspan=\"5\" valign=\"top\">Rural</th>\n",
       "      <th>Bradshawfurt</th>\n",
       "      <td>10</td>\n",
       "      <td>40.064000</td>\n",
       "      <td>7</td>\n",
       "    </tr>\n",
       "    <tr>\n",
       "      <th>Garzaport</th>\n",
       "      <td>3</td>\n",
       "      <td>24.123333</td>\n",
       "      <td>7</td>\n",
       "    </tr>\n",
       "    <tr>\n",
       "      <th>Harringtonfort</th>\n",
       "      <td>6</td>\n",
       "      <td>33.470000</td>\n",
       "      <td>4</td>\n",
       "    </tr>\n",
       "    <tr>\n",
       "      <th>Jessicaport</th>\n",
       "      <td>6</td>\n",
       "      <td>36.013333</td>\n",
       "      <td>1</td>\n",
       "    </tr>\n",
       "    <tr>\n",
       "      <th>Lake Jamie</th>\n",
       "      <td>6</td>\n",
       "      <td>34.358333</td>\n",
       "      <td>4</td>\n",
       "    </tr>\n",
       "  </tbody>\n",
       "</table>\n",
       "</div>"
      ],
      "text/plain": [
       "                      Total # of Rides  Ave Fare $  # of Drivers\n",
       "type  city                                                      \n",
       "Rural Bradshawfurt                  10   40.064000             7\n",
       "      Garzaport                      3   24.123333             7\n",
       "      Harringtonfort                 6   33.470000             4\n",
       "      Jessicaport                    6   36.013333             1\n",
       "      Lake Jamie                     6   34.358333             4"
      ]
     },
     "execution_count": 7,
     "metadata": {},
     "output_type": "execute_result"
    }
   ],
   "source": [
    "# Alternative way to apply specific functions to specific columns\n",
    "#http://pandas.pydata.org/pandas-docs/stable/groupby.html --> Example Input[70]\n",
    "# grouped = df.groupby('A')\n",
    "# grouped.agg({'C' : 'sum', 'D' : 'std'})\n",
    "\n",
    "# The nice thing about this is that the data type of # of drivers is preserved as an integer, without extra manipulation\n",
    "\n",
    "datasort = combi_df.groupby([\"type\",\"city\"])\n",
    "\n",
    "result_table2 = datasort.agg({\"ride_id\":\"count\", \"fare\":\"mean\", \"driver_count\":\"mean\"})\n",
    "result_table2 = result_table2.rename(columns ={\"fare\":\"Ave Fare $\",\n",
    "                                              \"driver_count\" : \"# of Drivers\",\n",
    "                                               \"ride_id\":\"Total # of Rides\"})\n",
    "\n",
    "result_table2.dtypes\n",
    "result_table2.head()"
   ]
  },
  {
   "cell_type": "markdown",
   "metadata": {},
   "source": [
    "## Bubble Plot of Ride Sharing Data"
   ]
  },
  {
   "cell_type": "code",
   "execution_count": 96,
   "metadata": {},
   "outputs": [
    {
     "data": {
      "image/png": "[encoded data removed]",
      "text/plain": [
       "<Figure size 432x288 with 1 Axes>"
      ]
     },
     "metadata": {
      "needs_background": "light"
     },
     "output_type": "display_data"
    }
   ],
   "source": [
    "# Obtain the x and y coordinates for each of the three city types\n",
    "# separate out the data\n",
    "\n",
    "rural = result_table.loc[result_table[\"type\"] == \"Rural\",[\"type\",\"city\", \"Ave Fare $\",  \"Total # of Rides\", \"# of Drivers\"]]\n",
    "suburban = result_table.loc[result_table[\"type\"] == \"Suburban\",[\"type\",\"city\", \"Ave Fare $\",\"Total # of Rides\", \"# of Drivers\"]]\n",
    "urban = result_table.loc[result_table[\"type\"] == \"Urban\",[\"type\",\"city\", \"Ave Fare $\", \"Total # of Rides\", \"# of Drivers\"]]\n",
    "\n",
    "num_rural = len(rural)\n",
    "num_suburban = len(suburban)\n",
    "num_urban = len(urban)\n",
    "\n",
    "ruralx = rural[\"Total # of Rides\"]\n",
    "ruraly = rural[\"Ave Fare $\"]\n",
    "rurals = rural[\"# of Drivers\"]*10\n",
    "\n",
    "suburbanx = suburban[\"Total # of Rides\"]\n",
    "suburbany = suburban[\"Ave Fare $\"]\n",
    "suburbans = suburban[\"# of Drivers\"]*10\n",
    "\n",
    "urbanx = urban[\"Total # of Rides\"]\n",
    "urbany = urban[\"Ave Fare $\"]\n",
    "urbans = urban[\"# of Drivers\"]*10\n",
    "\n",
    "# Build the scatter plots for each city types\n",
    "\n",
    "rural = plt.scatter(ruralx, ruraly, marker = \"o\", facecolors = \"yellow\", edgecolors = \"black\", s=rurals, alpha = 0.7, label=\"Rural\")\n",
    "suburban =plt.scatter(suburbanx,suburbany, marker =\"o\", facecolors = \"lightskyblue\",edgecolors =\"grey\", s=suburbans, alpha = 0.7, label='Suburban')\n",
    "urban =plt.scatter(urbanx,urbany, marker =\"o\", facecolors = \"coral\", edgecolors = \"grey\", s=urbans, alpha = 0.7, label=\"Urban\")\n",
    "\n",
    "#plt.show()\n",
    "\n",
    "# Incorporate the other graph properties\n",
    "plt.ylim(18, 45)\n",
    "plt.xlim(2, 45)\n",
    "plt.grid(color=\"grey\", alpha=0.2)\n",
    "\n",
    "plt.title(\"Pyber Average Fare versus Total # of Rides, by Urban Area\")\n",
    "plt.xlabel(\"Total # of Rides\")\n",
    "plt.ylabel(\"Average Fare ($)\")\n",
    "\n",
    "\n",
    "# Create a legend\n",
    "\n",
    "# Modify the legend so all the circles are the same size\n",
    "# Reference: https://stackoverflow.com/questions/24706125/setting-a-fixed-size-for-points-in-legend\n",
    "# example:  lgnd = plt.legend(loc=\"lower left\", scatterpoints=1, fontsize=10)\n",
    "# lgnd.legendHandles[0]._sizes = [30]\n",
    "# lgnd.legendHandles[1]._sizes = [30]\n",
    "\n",
    "lgnd = plt.legend(handles=[rural, suburban, urban], loc=\"upper right\", fontsize =\"small\",fancybox=True)\n",
    "lgnd.legendHandles[0]._sizes =[30]\n",
    "lgnd.legendHandles[1]._sizes =[30]\n",
    "lgnd.legendHandles[2]._sizes =[30]\n",
    "\n",
    "# Incorporate a text label regarding circle size\n",
    "# Reference:   https://jakevdp.github.io/PythonDataScienceHandbook/04.09-text-and-annotation.html \n",
    "# Python Data Science Handbook by Jake VanderPlas\n",
    "\n",
    "#style = dict(size=10, color='gray')\n",
    "# ax.text('2012-1-1', 3950, \"New Year's Day\", **style)\n",
    "\n",
    "style = dict(size=8, color ='black')\n",
    "plt.text(16.5,43.5, \"Each circle is a different city\", **style)\n",
    "plt.text(15.5,41.5, \"Circle size indicates # of drivers\", **style)\n",
    "\n",
    "# Save Figure\n",
    "plt.savefig(\"./Pyber_fare_vs_rides.png\")\n",
    "plt.show()\n",
    "#print(data)\n",
    "\n"
   ]
  },
  {
   "cell_type": "markdown",
   "metadata": {},
   "source": [
    "#  Trends for Pyber Average Fare by Urban area type\n",
    "\n",
    "1. The highest average fares are in rural areas,  but with fewest rides requested\n",
    "\n",
    "   This could be explained by the scarcity of drivers in those rural towns as shown in pie plot below.  Rural drivers comprise only ~2% of the drivers, but they have 5% of the rides, and nearly 7% of the average fare.  \n",
    "   \n",
    "   Another factor to consider is rural customers may have to travel longer distances to reach their destination.  This also could be a reason why the average fare is high.  \n",
    "   \n",
    "2. The average fare decreases by population \n",
    "   Rural areas (yellow) have higher fares in general, relative to suburban (light blue) and urban areas (coral)\n",
    "   \n",
    "   As mentioned above higher fares can be commanded in rural areas where drivers are scarce, or where distances are longer to reach the destination.  \n",
    "   \n",
    "   The urban areas (coral) have 81% of the drivers,  they serve 68% of the rides and receive 62% of the average fare revenue, which likely occurs due to shorter rides in urban areas and or enough drivers to drive the price per ride lower.\n",
    "   \n",
    "   Assuming the fares per mile are the same in all areas,  there will be a linear relationship between distance and fare. Cities which have variation away from that line will represent opportunities to improve revenue, by attracting more rides by varying pricing or offering better services (more availability of drivers when needed).\n",
    "\n",
    "  \n",
    "3. The number of rides increases with population\n",
    "   The more populous the region,  the more rides are requested, and the higher number of drivers, but the lower the average fare. \n",
    "   Better understanding could be obtained by analyzing also the ride distance.  Then it would be possible to understand whether the lower average fare is due to distance, or due to drivers accepting a lower fare. \n",
    "   "
   ]
  },
  {
   "cell_type": "markdown",
   "metadata": {},
   "source": [
    "## Total Fares by City Type"
   ]
  },
  {
   "cell_type": "code",
   "execution_count": 56,
   "metadata": {},
   "outputs": [
    {
     "data": {
      "image/png": "[encoded data removed]",
      "text/plain": [
       "<Figure size 432x288 with 1 Axes>"
      ]
     },
     "metadata": {},
     "output_type": "display_data"
    }
   ],
   "source": [
    "# Calculate Type Percents\n",
    "#gyms = [\"Crunch\", \"Planet Fitness\", \"NY Sports Club\", \"Rickie's Gym\"]\n",
    "#members = [49, 92, 84, 53]\n",
    "#x_axis = np.arange(0, len(gyms))\n",
    "#colors = [\"yellowgreen\", \"red\", \"lightskyblue\", \"coral\"]\n",
    "#explode = (0, 0.05, 0, 0)\n",
    "#plt.title(\"Gym Popularity\")\n",
    "#plt.pie(members, explode = explode, labels= gyms, colors = colors, autopct = \"%1.1f%%\", shadow =\"True\", startangle = 90)\n",
    "#plt.show()\n",
    "\n",
    "areas = result_table[\"type\"].unique()\n",
    "\n",
    "\n",
    "#Separate calculation of sum of revenue by area\n",
    "num_cities = combi_df[\"fare\"].groupby(combi_df[\"type\"]).sum()\n",
    "\n",
    "# Build Pie Chart\n",
    "x_axis = np.arange(0, len(areas))\n",
    "colors = [\"gold\", \"lightskyblue\", \"lightcoral\"]\n",
    "explode = (0.0,0.0, 0.1)\n",
    "plt.title(\"Pyber % Revenue by Area\")\n",
    "plt.pie(num_cities, explode = explode, labels= areas, colors = colors, autopct = \"%1.1f%%\", shadow =\"True\", startangle = 150)\n",
    "\n",
    "# Save Figure\n",
    "plt.savefig(\"./Pyber_revenue_by_area.png\")\n",
    "plt.show()"
   ]
  },
  {
   "cell_type": "markdown",
   "metadata": {},
   "source": [
    "## Total Rides by City Type"
   ]
  },
  {
   "cell_type": "code",
   "execution_count": 102,
   "metadata": {},
   "outputs": [
    {
     "data": {
      "image/png": "[encoded data removed]",
      "text/plain": [
       "<Figure size 432x288 with 1 Axes>"
      ]
     },
     "metadata": {},
     "output_type": "display_data"
    }
   ],
   "source": [
    "# Calculate Ride Percents\n",
    "#Separate calculation of # of rides by area\n",
    "num_rides = combi_df[\"fare\"].groupby(combi_df[\"type\"]).count()\n",
    "\n",
    "# Build Pie Chart\n",
    "x_axis = np.arange(0, len(areas))\n",
    "colors = [\"gold\", \"lightskyblue\", \"lightcoral\"]\n",
    "explode = (0.0,0.0, 0.1)\n",
    "plt.title(\"Pyber % Rides by Area\")\n",
    "plt.pie(num_rides, explode = explode, labels= areas, colors = colors, autopct = \"%1.1f%%\", shadow =\"True\", startangle = 150)\n",
    "\n",
    "# Save Figure\n",
    "plt.savefig(\"./Pyber_rides_by_area.png\")\n",
    "plt.show()\n"
   ]
  },
  {
   "cell_type": "markdown",
   "metadata": {},
   "source": [
    "## Total Drivers by City Type"
   ]
  },
  {
   "cell_type": "code",
   "execution_count": 101,
   "metadata": {
    "scrolled": true
   },
   "outputs": [
    {
     "data": {
      "image/png": "[encoded data removed]",
      "text/plain": [
       "<Figure size 432x288 with 1 Axes>"
      ]
     },
     "metadata": {},
     "output_type": "display_data"
    }
   ],
   "source": [
    "# Calculate % of drivers in each city type\n",
    "# Separate calculation of Total # of drivers (%) by area\n",
    "\n",
    "#age_df = purchase_data[[\"SN\", \"Age\"]]\n",
    "#age_unique = age_df.drop_duplicates()\n",
    "#age_unique = age_unique[[\"Age\"]]\n",
    "\n",
    "#driver_unique = drivers_df.drop_duplicates()    \n",
    "#num_drivers = drivers_df[\"driver_count\"].groupby(drivers_df[\"type\"]).count()\n",
    "num_drivers = city_df[\"driver_count\"].groupby(city_df[\"type\"]).sum()\n",
    "\n",
    "\n",
    "# Build Pie Chart\n",
    "x_axis = np.arange(0, len(areas))\n",
    "colors = [\"gold\", \"lightskyblue\", \"lightcoral\"]\n",
    "explode = (0.0,0.0, 0.1)\n",
    "plt.title(\"Pyber % Total Drivers by Area\")\n",
    "plt.pie(num_drivers, explode = explode, labels= areas, colors = colors, autopct = \"%1.1f%%\", shadow =\"True\", startangle = 150)\n",
    "\n",
    "# Save Figure\n",
    "#plt.savefig(\"./Pyber_drivers_by_area.png\")\n",
    "plt.show()\n",
    "\n",
    "#drivers_df.head()"
   ]
  },
  {
   "cell_type": "code",
   "execution_count": null,
   "metadata": {},
   "outputs": [],
   "source": []
  }
 ],
 "metadata": {
  "anaconda-cloud": {},
  "kernelspec": {
   "display_name": "Python 3",
   "language": "python",
   "name": "python3"
  },
  "language_info": {
   "codemirror_mode": {
    "name": "ipython",
    "version": 3
   },
   "file_extension": ".py",
   "mimetype": "text/x-python",
   "name": "python",
   "nbconvert_exporter": "python",
   "pygments_lexer": "ipython3",
   "version": "3.7.0"
  }
 },
 "nbformat": 4,
 "nbformat_minor": 2
}
